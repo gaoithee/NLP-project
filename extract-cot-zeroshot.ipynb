{
 "cells": [
  {
   "cell_type": "code",
   "execution_count": 1,
   "id": "dffc4db1-8334-4db0-859b-4bb1111b7aa2",
   "metadata": {},
   "outputs": [],
   "source": [
    "import pandas as pd\n",
    "import torch\n",
    "import re\n",
    "import ast\n",
    "import datasets\n",
    "from datasets import load_dataset\n",
    "from transformers import (\n",
    "    AutoModelForCausalLM,\n",
    "    AutoTokenizer,\n",
    "    BitsAndBytesConfig,\n",
    "    HfArgumentParser,\n",
    "    TrainingArguments,\n",
    "    pipeline,\n",
    "    logging,\n",
    ")\n",
    "\n",
    "import warnings\n",
    "warnings.filterwarnings(\"ignore\")"
   ]
  },
  {
   "cell_type": "code",
   "execution_count": 2,
   "id": "bdada590-e8c8-49a2-9e08-9f1084a067ce",
   "metadata": {},
   "outputs": [
    {
     "name": "stderr",
     "output_type": "stream",
     "text": [
      "`flash-attention` package not found, consider installing for better performance: No module named 'flash_attn'.\n",
      "Current `flash-attention` does not support `window_size`. Either upgrade or use `attn_implementation='eager'`.\n"
     ]
    },
    {
     "data": {
      "application/vnd.jupyter.widget-view+json": {
       "model_id": "474d7cc698e14c8a962d2c1ba40b1e63",
       "version_major": 2,
       "version_minor": 0
      },
      "text/plain": [
       "Loading checkpoint shards:   0%|          | 0/2 [00:00<?, ?it/s]"
      ]
     },
     "metadata": {},
     "output_type": "display_data"
    },
    {
     "name": "stderr",
     "output_type": "stream",
     "text": [
      "Special tokens have been added in the vocabulary, make sure the associated word embeddings are fine-tuned or trained.\n"
     ]
    }
   ],
   "source": [
    "model = AutoModelForCausalLM.from_pretrained(\n",
    "    \"microsoft/Phi-3-mini-4k-instruct\",\n",
    "    device_map=\"cuda\",\n",
    "    torch_dtype=\"auto\",\n",
    "    trust_remote_code=True,\n",
    ")\n",
    "\n",
    "tokenizer = AutoTokenizer.from_pretrained(\"microsoft/Phi-3-mini-4k-instruct\")\n",
    "\n",
    "pipe = pipeline(\n",
    "    \"text-generation\",\n",
    "    model=model,\n",
    "    tokenizer=tokenizer,\n",
    ")\n",
    "\n",
    "generation_args = {\n",
    "    \"max_new_tokens\": 500,\n",
    "    \"return_full_text\": False,\n",
    "    \"do_sample\": False,\n",
    "}"
   ]
  },
  {
   "cell_type": "code",
   "execution_count": 17,
   "id": "e2f3d23d-a1a5-48fb-b751-fbb0502a3d41",
   "metadata": {},
   "outputs": [],
   "source": [
    "def create_message(question, verbose_answer):\n",
    "    content = f\"\"\"\n",
    "    You are asked to extract the numerical answer to a question given a more verbose answer.\n",
    "\n",
    "    Here's an example:\n",
    "    - Question: Natalia sold clips to 48 of her friends in April, and then she sold half as many clips in May. How many clips did Natalia sell altogether in April and May?\n",
    "    - Verbose answer: First, we need to find out how many clips Natalia sold in May. Since she sold half as many clips in May as she did in April, we can calculate this by dividing the number of clips sold in April by 2: \n",
    "    Clips sold in May = Clips sold in April / 2\n",
    "    Clips sold in May = 48 / 2\n",
    "    Clips sold in May = 24\n",
    "    Now, we can find the total number of clips sold in April and May by adding the number of clips sold in each month:\n",
    "    Total clips sold = Clips sold in April + Clips sold in May\n",
    "    Total clips sold = 48 + 24\n",
    "    Total clips sold = 72\n",
    "    So, Natalia sold 72 clips altogether in April and May.\n",
    "    - Assistant: 72\n",
    "\n",
    "    Now do the same for this question: \"{question}\", where the verbose answer is: [\"{verbose_answer}\"]. Assistant:\n",
    "    \"\"\"\n",
    "    \n",
    "    messages = [\n",
    "        {\"role\": \"system\", \"content\": \"You are a helpful AI assistant.\"},\n",
    "        {\"role\": \"user\", \"content\": content}\n",
    "    ]\n",
    "    \n",
    "    return messages"
   ]
  },
  {
   "cell_type": "code",
   "execution_count": 10,
   "id": "87b73921-dd43-4167-ad3e-cde96bc0e42b",
   "metadata": {},
   "outputs": [
    {
     "data": {
      "text/html": [
       "<div>\n",
       "<style scoped>\n",
       "    .dataframe tbody tr th:only-of-type {\n",
       "        vertical-align: middle;\n",
       "    }\n",
       "\n",
       "    .dataframe tbody tr th {\n",
       "        vertical-align: top;\n",
       "    }\n",
       "\n",
       "    .dataframe thead th {\n",
       "        text-align: right;\n",
       "    }\n",
       "</style>\n",
       "<table border=\"1\" class=\"dataframe\">\n",
       "  <thead>\n",
       "    <tr style=\"text-align: right;\">\n",
       "      <th></th>\n",
       "      <th>query</th>\n",
       "      <th>correct</th>\n",
       "      <th>answer</th>\n",
       "    </tr>\n",
       "  </thead>\n",
       "  <tbody>\n",
       "    <tr>\n",
       "      <th>0</th>\n",
       "      <td>Natalia sold clips to 48 of her friends in Apr...</td>\n",
       "      <td>72</td>\n",
       "      <td>First, we need to find out how many clips Nat...</td>\n",
       "    </tr>\n",
       "    <tr>\n",
       "      <th>1</th>\n",
       "      <td>Weng earns $12 an hour for babysitting. Yester...</td>\n",
       "      <td>10</td>\n",
       "      <td>Step 1: Convert the babysitting time from min...</td>\n",
       "    </tr>\n",
       "    <tr>\n",
       "      <th>2</th>\n",
       "      <td>Betty is saving money for a new wallet which c...</td>\n",
       "      <td>5</td>\n",
       "      <td>Step 1: Calculate the amount Betty has alread...</td>\n",
       "    </tr>\n",
       "    <tr>\n",
       "      <th>3</th>\n",
       "      <td>Julie is reading a 120-page book. Yesterday, s...</td>\n",
       "      <td>42</td>\n",
       "      <td>Step 1: Determine the number of pages Julie r...</td>\n",
       "    </tr>\n",
       "    <tr>\n",
       "      <th>4</th>\n",
       "      <td>James writes a 3-page letter to 2 different fr...</td>\n",
       "      <td>624</td>\n",
       "      <td>Step 1: Determine the number of pages James w...</td>\n",
       "    </tr>\n",
       "  </tbody>\n",
       "</table>\n",
       "</div>"
      ],
      "text/plain": [
       "                                               query  correct  \\\n",
       "0  Natalia sold clips to 48 of her friends in Apr...       72   \n",
       "1  Weng earns $12 an hour for babysitting. Yester...       10   \n",
       "2  Betty is saving money for a new wallet which c...        5   \n",
       "3  Julie is reading a 120-page book. Yesterday, s...       42   \n",
       "4  James writes a 3-page letter to 2 different fr...      624   \n",
       "\n",
       "                                              answer  \n",
       "0   First, we need to find out how many clips Nat...  \n",
       "1   Step 1: Convert the babysitting time from min...  \n",
       "2   Step 1: Calculate the amount Betty has alread...  \n",
       "3   Step 1: Determine the number of pages Julie r...  \n",
       "4   Step 1: Determine the number of pages James w...  "
      ]
     },
     "execution_count": 10,
     "metadata": {},
     "output_type": "execute_result"
    }
   ],
   "source": [
    "df = pd.read_csv('results/cot-zeroshot.csv')\n",
    "df = df.drop(columns=['Unnamed: 0'])\n",
    "df.head()"
   ]
  },
  {
   "cell_type": "code",
   "execution_count": 18,
   "id": "7b8cbd22-0530-468e-a16e-42d0df4553a4",
   "metadata": {},
   "outputs": [],
   "source": [
    "prompts = []\n",
    "outs = []\n",
    "for i in range(len(df)):\n",
    "  prompts.append(create_message(df['query'][i], df['answer'][i]))\n",
    "  output = pipe(prompts[i], **generation_args)\n",
    "  outs.append(output[0]['generated_text'])"
   ]
  },
  {
   "cell_type": "code",
   "execution_count": 19,
   "id": "23787ba1-da64-4778-adf7-a9a3b80bd029",
   "metadata": {},
   "outputs": [
    {
     "name": "stdout",
     "output_type": "stream",
     "text": [
      " 72\n"
     ]
    }
   ],
   "source": [
    "prompt = create_message(df['query'][0], df['answer'][0])\n",
    "output = pipe(prompt, **generation_args)\n",
    "print(output[0]['generated_text'])"
   ]
  },
  {
   "cell_type": "code",
   "execution_count": null,
   "id": "cbf7e124-60e3-4173-be01-336fb2ca4699",
   "metadata": {},
   "outputs": [],
   "source": []
  }
 ],
 "metadata": {
  "kernelspec": {
   "display_name": "Python 3 (ipykernel)",
   "language": "python",
   "name": "python3"
  },
  "language_info": {
   "codemirror_mode": {
    "name": "ipython",
    "version": 3
   },
   "file_extension": ".py",
   "mimetype": "text/x-python",
   "name": "python",
   "nbconvert_exporter": "python",
   "pygments_lexer": "ipython3",
   "version": "3.9.18"
  }
 },
 "nbformat": 4,
 "nbformat_minor": 5
}

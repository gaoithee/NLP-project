{
 "cells": [
  {
   "cell_type": "code",
   "execution_count": 1,
   "metadata": {},
   "outputs": [],
   "source": [
    "import pandas as pd"
   ]
  },
  {
   "cell_type": "code",
   "execution_count": 2,
   "metadata": {},
   "outputs": [],
   "source": [
    "base_zero = pd.read_csv('/home/saracandussio/NLP-project/results/baseline-zeroshot.csv')\n",
    "base_one = pd.read_csv('/home/saracandussio/NLP-project/results/baseline-oneshot.csv')\n",
    "cot_zero = pd.read_csv('/home/saracandussio/NLP-project/results/cot-zeroshot.csv')\n",
    "cot_one = pd.read_csv('/home/saracandussio/NLP-project/results/cot-oneshot.csv')"
   ]
  },
  {
   "cell_type": "code",
   "execution_count": 11,
   "metadata": {},
   "outputs": [],
   "source": [
    "base_zero = base_zero.drop(columns=['Unnamed: 0'])\n",
    "base_one = base_one.drop(columns=['Unnamed: 0'])\n",
    "cot_zero = cot_zero.drop(columns=['Unnamed: 0'])\n",
    "cot_one = cot_one.drop(columns=['Unnamed: 0'])"
   ]
  },
  {
   "cell_type": "code",
   "execution_count": 23,
   "metadata": {},
   "outputs": [
    {
     "data": {
      "text/html": [
       "<div>\n",
       "<style scoped>\n",
       "    .dataframe tbody tr th:only-of-type {\n",
       "        vertical-align: middle;\n",
       "    }\n",
       "\n",
       "    .dataframe tbody tr th {\n",
       "        vertical-align: top;\n",
       "    }\n",
       "\n",
       "    .dataframe thead th {\n",
       "        text-align: right;\n",
       "    }\n",
       "</style>\n",
       "<table border=\"1\" class=\"dataframe\">\n",
       "  <thead>\n",
       "    <tr style=\"text-align: right;\">\n",
       "      <th></th>\n",
       "      <th>query</th>\n",
       "      <th>correct</th>\n",
       "      <th>baseline 0-shot</th>\n",
       "      <th>baseline 1-shot</th>\n",
       "    </tr>\n",
       "  </thead>\n",
       "  <tbody>\n",
       "    <tr>\n",
       "      <th>0</th>\n",
       "      <td>Natalia sold clips to 48 of her friends in Apr...</td>\n",
       "      <td>72</td>\n",
       "      <td>72.0</td>\n",
       "      <td>72.0</td>\n",
       "    </tr>\n",
       "    <tr>\n",
       "      <th>1</th>\n",
       "      <td>Weng earns $12 an hour for babysitting. Yester...</td>\n",
       "      <td>10</td>\n",
       "      <td>10.0</td>\n",
       "      <td>10.0</td>\n",
       "    </tr>\n",
       "    <tr>\n",
       "      <th>2</th>\n",
       "      <td>Betty is saving money for a new wallet which c...</td>\n",
       "      <td>5</td>\n",
       "      <td>NaN</td>\n",
       "      <td>25.0</td>\n",
       "    </tr>\n",
       "    <tr>\n",
       "      <th>3</th>\n",
       "      <td>Julie is reading a 120-page book. Yesterday, s...</td>\n",
       "      <td>42</td>\n",
       "      <td>NaN</td>\n",
       "      <td>36.0</td>\n",
       "    </tr>\n",
       "    <tr>\n",
       "      <th>4</th>\n",
       "      <td>James writes a 3-page letter to 2 different fr...</td>\n",
       "      <td>624</td>\n",
       "      <td>624.0</td>\n",
       "      <td>624.0</td>\n",
       "    </tr>\n",
       "  </tbody>\n",
       "</table>\n",
       "</div>"
      ],
      "text/plain": [
       "                                               query  correct  \\\n",
       "0  Natalia sold clips to 48 of her friends in Apr...       72   \n",
       "1  Weng earns $12 an hour for babysitting. Yester...       10   \n",
       "2  Betty is saving money for a new wallet which c...        5   \n",
       "3  Julie is reading a 120-page book. Yesterday, s...       42   \n",
       "4  James writes a 3-page letter to 2 different fr...      624   \n",
       "\n",
       "   baseline 0-shot  baseline 1-shot  \n",
       "0             72.0             72.0  \n",
       "1             10.0             10.0  \n",
       "2              NaN             25.0  \n",
       "3              NaN             36.0  \n",
       "4            624.0            624.0  "
      ]
     },
     "execution_count": 23,
     "metadata": {},
     "output_type": "execute_result"
    }
   ],
   "source": [
    "merged_df = pd.merge(base_zero, base_one, on=['query', 'correct'])\n",
    "merged_df = merged_df.rename(columns={'answer_x': 'baseline 0-shot', 'answer_y': 'baseline 1-shot'})\n",
    "merged_df.head()"
   ]
  },
  {
   "cell_type": "code",
   "execution_count": 24,
   "metadata": {},
   "outputs": [
    {
     "data": {
      "text/html": [
       "<div>\n",
       "<style scoped>\n",
       "    .dataframe tbody tr th:only-of-type {\n",
       "        vertical-align: middle;\n",
       "    }\n",
       "\n",
       "    .dataframe tbody tr th {\n",
       "        vertical-align: top;\n",
       "    }\n",
       "\n",
       "    .dataframe thead th {\n",
       "        text-align: right;\n",
       "    }\n",
       "</style>\n",
       "<table border=\"1\" class=\"dataframe\">\n",
       "  <thead>\n",
       "    <tr style=\"text-align: right;\">\n",
       "      <th></th>\n",
       "      <th>query</th>\n",
       "      <th>correct</th>\n",
       "      <th>baseline 0-shot</th>\n",
       "      <th>baseline 1-shot</th>\n",
       "      <th>CoT 0-shot</th>\n",
       "      <th>CoT 1-shot</th>\n",
       "    </tr>\n",
       "  </thead>\n",
       "  <tbody>\n",
       "    <tr>\n",
       "      <th>0</th>\n",
       "      <td>Natalia sold clips to 48 of her friends in Apr...</td>\n",
       "      <td>72</td>\n",
       "      <td>72.0</td>\n",
       "      <td>72.0</td>\n",
       "      <td>First, we need to find out how many clips Nat...</td>\n",
       "      <td>72.0</td>\n",
       "    </tr>\n",
       "    <tr>\n",
       "      <th>1</th>\n",
       "      <td>Weng earns $12 an hour for babysitting. Yester...</td>\n",
       "      <td>10</td>\n",
       "      <td>10.0</td>\n",
       "      <td>10.0</td>\n",
       "      <td>Step 1: Convert the babysitting time from min...</td>\n",
       "      <td>10.0</td>\n",
       "    </tr>\n",
       "    <tr>\n",
       "      <th>2</th>\n",
       "      <td>Betty is saving money for a new wallet which c...</td>\n",
       "      <td>5</td>\n",
       "      <td>NaN</td>\n",
       "      <td>25.0</td>\n",
       "      <td>Step 1: Calculate the amount Betty has alread...</td>\n",
       "      <td>5.0</td>\n",
       "    </tr>\n",
       "    <tr>\n",
       "      <th>3</th>\n",
       "      <td>Julie is reading a 120-page book. Yesterday, s...</td>\n",
       "      <td>42</td>\n",
       "      <td>NaN</td>\n",
       "      <td>36.0</td>\n",
       "      <td>Step 1: Determine the number of pages Julie r...</td>\n",
       "      <td>42.0</td>\n",
       "    </tr>\n",
       "    <tr>\n",
       "      <th>4</th>\n",
       "      <td>James writes a 3-page letter to 2 different fr...</td>\n",
       "      <td>624</td>\n",
       "      <td>624.0</td>\n",
       "      <td>624.0</td>\n",
       "      <td>Step 1: Determine the number of pages James w...</td>\n",
       "      <td>624.0</td>\n",
       "    </tr>\n",
       "  </tbody>\n",
       "</table>\n",
       "</div>"
      ],
      "text/plain": [
       "                                               query  correct  \\\n",
       "0  Natalia sold clips to 48 of her friends in Apr...       72   \n",
       "1  Weng earns $12 an hour for babysitting. Yester...       10   \n",
       "2  Betty is saving money for a new wallet which c...        5   \n",
       "3  Julie is reading a 120-page book. Yesterday, s...       42   \n",
       "4  James writes a 3-page letter to 2 different fr...      624   \n",
       "\n",
       "   baseline 0-shot  baseline 1-shot  \\\n",
       "0             72.0             72.0   \n",
       "1             10.0             10.0   \n",
       "2              NaN             25.0   \n",
       "3              NaN             36.0   \n",
       "4            624.0            624.0   \n",
       "\n",
       "                                          CoT 0-shot  CoT 1-shot  \n",
       "0   First, we need to find out how many clips Nat...        72.0  \n",
       "1   Step 1: Convert the babysitting time from min...        10.0  \n",
       "2   Step 1: Calculate the amount Betty has alread...         5.0  \n",
       "3   Step 1: Determine the number of pages Julie r...        42.0  \n",
       "4   Step 1: Determine the number of pages James w...       624.0  "
      ]
     },
     "execution_count": 24,
     "metadata": {},
     "output_type": "execute_result"
    }
   ],
   "source": [
    "merged_df = pd.merge(merged_df, cot_zero, on=['query', 'correct'])\n",
    "merged_df = pd.merge(merged_df, cot_one, on=['query', 'correct'])\n",
    "merged_df = merged_df.rename(columns={'answer_x': 'CoT 0-shot', 'answer_y': 'CoT 1-shot'})\n",
    "merged_df.head()"
   ]
  },
  {
   "cell_type": "code",
   "execution_count": 25,
   "metadata": {},
   "outputs": [],
   "source": [
    "merged_df.to_csv('/home/saracandussio/NLP-project/results/merged_results.csv')"
   ]
  },
  {
   "cell_type": "code",
   "execution_count": 29,
   "metadata": {},
   "outputs": [],
   "source": [
    "base_zero_matches = 0\n",
    "base_one_matches = 0\n",
    "cot_one_matches = 0\n",
    "\n",
    "for i in range(len(merged_df)):\n",
    "    if merged_df['correct'][i] == merged_df['baseline 0-shot'][i]:\n",
    "        base_zero_matches += 1\n",
    "    if merged_df['correct'][i] == merged_df['baseline 1-shot'][i]:\n",
    "        base_one_matches += 1\n",
    "    if merged_df['correct'][i] == merged_df['CoT 1-shot'][i]:\n",
    "        cot_one_matches += 1\n"
   ]
  },
  {
   "cell_type": "code",
   "execution_count": 31,
   "metadata": {},
   "outputs": [
    {
     "name": "stdout",
     "output_type": "stream",
     "text": [
      "23.5\n",
      "26.150000000000002\n",
      "87.4\n"
     ]
    }
   ],
   "source": [
    "print(base_zero_matches/len(merged_df)*100)\n",
    "print(base_one_matches/len(merged_df)*100)\n",
    "print(cot_one_matches/len(merged_df)*100)"
   ]
  },
  {
   "cell_type": "code",
   "execution_count": null,
   "metadata": {},
   "outputs": [],
   "source": []
  }
 ],
 "metadata": {
  "kernelspec": {
   "display_name": "my_env",
   "language": "python",
   "name": "python3"
  },
  "language_info": {
   "codemirror_mode": {
    "name": "ipython",
    "version": 3
   },
   "file_extension": ".py",
   "mimetype": "text/x-python",
   "name": "python",
   "nbconvert_exporter": "python",
   "pygments_lexer": "ipython3",
   "version": "3.10.13"
  }
 },
 "nbformat": 4,
 "nbformat_minor": 2
}
